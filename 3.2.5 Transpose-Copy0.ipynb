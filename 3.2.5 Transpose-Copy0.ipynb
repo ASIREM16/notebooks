{
 "metadata": {
  "name": ""
 },
 "nbformat": 3,
 "nbformat_minor": 0,
 "worksheets": [
  {
   "cells": [
    {
     "cell_type": "heading",
     "level": 1,
     "metadata": {},
     "source": [
      "Transposing a matrix"
     ]
    },
    {
     "cell_type": "markdown",
     "metadata": {},
     "source": [
      "This notebook walks you through how to implement simple functions that transpose matrix $ A $, storing the result in matrix $ B $."
     ]
    },
    {
     "cell_type": "heading",
     "level": 2,
     "metadata": {},
     "source": [
      "Getting started"
     ]
    },
    {
     "cell_type": "markdown",
     "metadata": {},
     "source": [
      "We will use some functions that are part of our laff library (of which this function will become a part) as well as some routines from the FLAME API (Application Programming Interface) that allows us to write code that closely resembles how we typeset algorithms using the FLAME notation.  These functions are imported with the \"import laff as laff\" and \"import flame\" statements."
     ]
    },
    {
     "cell_type": "heading",
     "level": 2,
     "metadata": {},
     "source": [
      "Algorithm"
     ]
    },
    {
     "cell_type": "markdown",
     "metadata": {},
     "source": [
      "<image src=\"https://studio.edx.org/c4x/UTAustinX/UT.5.01x/asset/325TransposeAlgorithm.png\" alt=\"Transposing a matrix\" width=\"75%\">"
     ]
    },
    {
     "cell_type": "heading",
     "level": 2,
     "metadata": {},
     "source": [
      "The routine"
     ]
    },
    {
     "cell_type": "markdown",
     "metadata": {},
     "source": [
      "Write your <br>\n",
      "<code> Transpose_unb_var1( A, B ) </code> <br>\n",
      "routine, using the <a href=\"https://studio.edx.org/c4x/UTAustinX/UT.5.01x/asset/index.html\"> Spark webpage </a> and the <code> laff.copy </code> routine."
     ]
    },
    {
     "cell_type": "code",
     "collapsed": false,
     "input": [
      "# Programmed by: Name of author\n",
      "#                Email of author\n",
      "\n",
      "import flame\n",
      "import laff as laff\n",
      "\n",
      "def Transpose_unb_var1(A, B):\n",
      "\n",
      "    AL, AR = flame.part_1x2(A, \\\n",
      "                            0, 'LEFT')\n",
      "\n",
      "    BT, \\\n",
      "    BB  = flame.part_2x1(B, \\\n",
      "                         0, 'TOP')\n",
      "\n",
      "    while AL.shape[1] < A.shape[1]:\n",
      "\n",
      "        A0, a1, A2 = flame.repart_1x2_to_1x3(AL, AR, \\\n",
      "                                             1, 'RIGHT')\n",
      "\n",
      "        B0,  \\\n",
      "        b1t, \\\n",
      "        B2   = flame.repart_2x1_to_3x1(BT, \\\n",
      "                                       BB, \\\n",
      "                                       1, 'BOTTOM')\n",
      "\n",
      "        #------------------------------------------------------------#\n",
      "\n",
      "        laff.copy( a1, b1t )\n",
      "\n",
      "        #------------------------------------------------------------#\n",
      "\n",
      "        AL, AR = flame.cont_with_1x3_to_1x2(A0, a1, A2, \\\n",
      "                                            'LEFT')\n",
      "\n",
      "        BT, \\\n",
      "        BB  = flame.cont_with_3x1_to_2x1(B0,  \\\n",
      "                                         b1t, \\\n",
      "                                         B2,  \\\n",
      "                                         'TOP')\n",
      "\n",
      "    flame.merge_2x1(BT, \\\n",
      "                    BB, B)\n",
      "\n",
      "\n"
     ],
     "language": "python",
     "metadata": {},
     "outputs": [],
     "prompt_number": 1
    },
    {
     "cell_type": "heading",
     "level": 2,
     "metadata": {},
     "source": [
      "Testing"
     ]
    },
    {
     "cell_type": "markdown",
     "metadata": {},
     "source": [
      "Let's quickly test the routine by creating a 5 x 4 matrix $ A $ and a 4 x 5 matrix $ B $ and then transposing $ A $, overwriting $ B $ with the result."
     ]
    },
    {
     "cell_type": "code",
     "collapsed": false,
     "input": [
      "from numpy import random\n",
      "from numpy import matrix\n",
      "\n",
      "A = matrix( random.rand( 5,4 ) )\n",
      "B = matrix( random.rand( 4,5 ) )\n",
      "\n",
      "print( 'A ' )\n",
      "print( A )\n",
      "\n",
      "\n",
      "print( 'B before =' )\n",
      "print( B )"
     ],
     "language": "python",
     "metadata": {},
     "outputs": [
      {
       "output_type": "stream",
       "stream": "stdout",
       "text": [
        "A \n",
        "[[ 0.67962737  0.4437622   0.14754058  0.58878998]\n",
        " [ 0.27463578  0.43521822  0.27721115  0.85737188]\n",
        " [ 0.28314006  0.88735872  0.46239942  0.14849344]\n",
        " [ 0.51043642  0.3643366   0.09970441  0.92824671]\n",
        " [ 0.75051511  0.8484539   0.29917957  0.0407203 ]]\n",
        "B before =\n",
        "[[ 0.42369347  0.79910207  0.51295598  0.97635844  0.81872449]\n",
        " [ 0.27144892  0.03926893  0.79421641  0.3246888   0.59099192]\n",
        " [ 0.9207073   0.10378147  0.83273034  0.681561    0.02623168]\n",
        " [ 0.37408212  0.34396757  0.69567021  0.91181782  0.84555754]]\n"
       ]
      }
     ],
     "prompt_number": 2
    },
    {
     "cell_type": "code",
     "collapsed": false,
     "input": [
      "Transpose_unb_var1( A, B )\n",
      "\n",
      "print( 'A ' )\n",
      "print( A )\n",
      "\n",
      "print( 'B after =' )\n",
      "print( B )"
     ],
     "language": "python",
     "metadata": {},
     "outputs": [
      {
       "output_type": "stream",
       "stream": "stdout",
       "text": [
        "A \n",
        "[[ 0.67962737  0.4437622   0.14754058  0.58878998]\n",
        " [ 0.27463578  0.43521822  0.27721115  0.85737188]\n",
        " [ 0.28314006  0.88735872  0.46239942  0.14849344]\n",
        " [ 0.51043642  0.3643366   0.09970441  0.92824671]\n",
        " [ 0.75051511  0.8484539   0.29917957  0.0407203 ]]\n",
        "B after =\n",
        "[[ 0.67962737  0.27463578  0.28314006  0.51043642  0.75051511]\n",
        " [ 0.4437622   0.43521822  0.88735872  0.3643366   0.8484539 ]\n",
        " [ 0.14754058  0.27721115  0.46239942  0.09970441  0.29917957]\n",
        " [ 0.58878998  0.85737188  0.14849344  0.92824671  0.0407203 ]]\n"
       ]
      }
     ],
     "prompt_number": 3
    },
    {
     "cell_type": "markdown",
     "metadata": {},
     "source": [
      "Bingo, it seems to work!"
     ]
    },
    {
     "cell_type": "heading",
     "level": 2,
     "metadata": {},
     "source": [
      "Try it yourself (Homework 3.2.5.3)"
     ]
    },
    {
     "cell_type": "markdown",
     "metadata": {},
     "source": [
      "Now, an alternative routine that accesses the matrix by rows."
     ]
    },
    {
     "cell_type": "markdown",
     "metadata": {},
     "source": [
      "Use the <a href=\"https://studio.edx.org/c4x/UTAustinX/UT.5.01x/asset/index.html\"> Spark webpage </a> to generate the routine <br>\n",
      "<code> Transpose_unb_var2( A, B )</code>.<br>"
     ]
    },
    {
     "cell_type": "code",
     "collapsed": false,
     "input": [
      "# insert code here\n",
      "\n",
      "\n"
     ],
     "language": "python",
     "metadata": {},
     "outputs": []
    },
    {
     "cell_type": "markdown",
     "metadata": {},
     "source": [
      "Test your routine with the following"
     ]
    },
    {
     "cell_type": "code",
     "collapsed": false,
     "input": [
      "A = matrix( random.rand( 5,4 ) )\n",
      "B = matrix( random.rand( 4,5 ) )\n",
      "\n",
      "print( 'A ' )\n",
      "print( A )\n",
      "\n",
      "\n",
      "print( 'B before =' )\n",
      "print( B )"
     ],
     "language": "python",
     "metadata": {},
     "outputs": []
    },
    {
     "cell_type": "code",
     "collapsed": false,
     "input": [
      "Transpose_unb_var2( A, B )\n",
      "\n",
      "print( 'A ' )\n",
      "print( A )\n",
      "\n",
      "print( 'B after =' )\n",
      "print( B )"
     ],
     "language": "python",
     "metadata": {},
     "outputs": []
    },
    {
     "cell_type": "heading",
     "level": 2,
     "metadata": {},
     "source": [
      "Watch your code in action!"
     ]
    },
    {
     "cell_type": "markdown",
     "metadata": {},
     "source": [
      "Copy and paste the code into <a href=\"http://edx-org-utaustinx.s3.amazonaws.com/UT501x/PictureFlame/PictureFLAME.html\"> PictureFLAME </a>, a webpage where you can watch your routine in action.  Just cut and paste into the box.  \n",
      "\n",
      "Disclaimer: we implemented a VERY simple interpreter.  If you do something wrong, we cannot guarantee the results.  But if you do it right, you are in for a treat.\n",
      "\n",
      "If you want to reset the problem, just click in the box into which you pasted the code and hit \"next\" again."
     ]
    }
   ],
   "metadata": {}
  }
 ]
}